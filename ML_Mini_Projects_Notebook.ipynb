{
 "cells": [
  {
   "cell_type": "markdown",
   "id": "01c7d214",
   "metadata": {},
   "source": [
    "# ML Mini Projects – Decision Tree, k-NN, Clustering, Regression"
   ]
  },
  {
   "cell_type": "markdown",
   "id": "cbf43b65",
   "metadata": {},
   "source": [
    "## 1. Setup & Data Imports"
   ]
  },
  {
   "cell_type": "code",
   "execution_count": null,
   "id": "d276c7f2",
   "metadata": {},
   "outputs": [],
   "source": [
    "import numpy as np\n",
    "import pandas as pd\n",
    "import matplotlib.pyplot as plt\n",
    "import seaborn as sns\n",
    "\n",
    "from sklearn.datasets import load_iris, load_diabetes, make_blobs\n",
    "from sklearn.model_selection import train_test_split\n",
    "from sklearn.metrics import accuracy_score, confusion_matrix, classification_report, r2_score, mean_squared_error\n",
    "\n",
    "sns.set(style=\"whitegrid\")\n"
   ]
  },
  {
   "cell_type": "markdown",
   "id": "e826f461",
   "metadata": {},
   "source": [
    "## 2. Decision Tree Classifier"
   ]
  },
  {
   "cell_type": "code",
   "execution_count": null,
   "id": "73040cf0",
   "metadata": {},
   "outputs": [],
   "source": [
    "#Supervised ML Model using Iris Dataset\n",
    "from sklearn.tree import DecisionTreeClassifier, plot_tree\n",
    "\n",
    "# Load Iris dataset\n",
    "iris = load_iris()\n",
    "X, y = iris.data, iris.target\n",
    "\n",
    "# Train/test split\n",
    "X_train, X_test, y_train, y_test = train_test_split(X, y, test_size=0.2, random_state=42)\n",
    "\n",
    "# Train model\n",
    "dt_model = DecisionTreeClassifier(random_state=42)\n",
    "dt_model.fit(X_train, y_train)\n",
    "\n",
    "# Predict\n",
    "y_pred = dt_model.predict(X_test)\n",
    "\n",
    "# Metrics\n",
    "print(\"Accuracy:\", accuracy_score(y_test, y_pred))\n",
    "print(\"Confusion Matrix:\\n\", confusion_matrix(y_test, y_pred))\n",
    "print(\"Classification Report:\\n\", classification_report(y_test, y_pred))\n",
    "\n",
    "# Plot tree\n",
    "plt.figure(figsize=(12, 6))\n",
    "plot_tree(dt_model, feature_names=iris.feature_names, class_names=iris.target_names, filled=True)\n",
    "plt.show()\n"
   ]
  },
  {
   "cell_type": "markdown",
   "id": "d3172722",
   "metadata": {},
   "source": [
    "## 3. k-Nearest Neighbors Classifier"
   ]
  },
  {
   "cell_type": "code",
   "execution_count": null,
   "id": "dbe1274d",
   "metadata": {},
   "outputs": [],
   "source": [
    "#Supervised K-NN ML model with Iris Dataset\n",
    "from sklearn.neighbors import KNeighborsClassifier\n",
    "\n",
    "# Train model\n",
    "knn_model = KNeighborsClassifier(n_neighbors=3)\n",
    "knn_model.fit(X_train, y_train)\n",
    "\n",
    "# Predict\n",
    "y_pred_knn = knn_model.predict(X_test)\n",
    "\n",
    "# Metrics\n",
    "print(\"k-NN Accuracy:\", accuracy_score(y_test, y_pred_knn))\n",
    "print(\"Confusion Matrix:\\n\", confusion_matrix(y_test, y_pred_knn))\n",
    "print(\"Classification Report:\\n\", classification_report(y_test, y_pred_knn))\n"
   ]
  },
  {
   "cell_type": "markdown",
   "id": "f1bb3baf",
   "metadata": {},
   "source": [
    "## 4. Clustering (KMeans)"
   ]
  },
  {
   "cell_type": "code",
   "execution_count": null,
   "id": "a94f3d29",
   "metadata": {},
   "outputs": [],
   "source": [
    "#Unsupervised ML KMeans Model with Synthetic Blobs Dataset\n",
    "from sklearn.cluster import KMeans\n",
    "\n",
    "# Create synthetic data\n",
    "X_blob, _ = make_blobs(n_samples=300, centers=3, random_state=42)\n",
    "\n",
    "# Apply KMeans\n",
    "kmeans = KMeans(n_clusters=3, random_state=42)\n",
    "y_kmeans = kmeans.fit_predict(X_blob)\n",
    "\n",
    "# Plot clusters\n",
    "plt.figure(figsize=(8, 6))\n",
    "plt.scatter(X_blob[:, 0], X_blob[:, 1], c=y_kmeans, cmap='viridis', s=50)\n",
    "plt.scatter(kmeans.cluster_centers_[:, 0], kmeans.cluster_centers_[:, 1], color='red', marker='x', s=200)\n",
    "plt.title('KMeans Clustering')\n",
    "plt.show()\n"
   ]
  },
  {
   "cell_type": "markdown",
   "id": "9c5ebdad",
   "metadata": {},
   "source": [
    "## 5. Linear Regression"
   ]
  },
  {
   "cell_type": "code",
   "execution_count": null,
   "id": "12298e03",
   "metadata": {},
   "outputs": [],
   "source": [
    "#Supervised Linear Regression Model with Diabetes Dataset \n",
    "from sklearn.linear_model import LinearRegression\n",
    "\n",
    "# Load diabetes dataset\n",
    "diabetes = load_diabetes()\n",
    "X_reg, y_reg = diabetes.data[:, np.newaxis, 2], diabetes.target\n",
    "\n",
    "# Train/test split\n",
    "X_train_r, X_test_r, y_train_r, y_test_r = train_test_split(X_reg, y_reg, test_size=0.2, random_state=42)\n",
    "\n",
    "# Train model\n",
    "lr_model = LinearRegression()\n",
    "lr_model.fit(X_train_r, y_train_r)\n",
    "\n",
    "# Predict\n",
    "y_pred_lr = lr_model.predict(X_test_r)\n",
    "\n",
    "# Metrics\n",
    "print(\"R² Score:\", r2_score(y_test_r, y_pred_lr))\n",
    "print(\"MSE:\", mean_squared_error(y_test_r, y_pred_lr))\n",
    "\n",
    "# Plot\n",
    "plt.scatter(X_test_r, y_test_r, color='black', label='Actual')\n",
    "plt.plot(X_test_r, y_pred_lr, color='blue', linewidth=2, label='Predicted')\n",
    "plt.title('Linear Regression - Diabetes Data')\n",
    "plt.legend()\n",
    "plt.show()\n"
   ]
  },
  {
   "cell_type": "markdown",
   "id": "2ce9069c",
   "metadata": {},
   "source": [
    "## 6. Final Summary – ML Mini Projects\n",
    "\n",
    "This notebook demonstrates four fundamental machine learning algorithms across three major ML categories:\n",
    "\n",
    "---\n",
    "\n",
    "### 1. Supervised Learning – Classification\n",
    "#### Decision Tree Classifier (using Iris Dataset)\n",
    "- Learned patterns from labeled flower species\n",
    "- Achieved high accuracy and visualized the decision tree\n",
    "- Clearly separated classes based on petal length and width\n",
    "\n",
    "#### k-Nearest Neighbors (k-NN Classifier, k=3)\n",
    "- Classified flower species based on the majority of nearby data points\n",
    "- Achieved perfect accuracy (100%) on the Iris test set\n",
    "\n",
    "---\n",
    "\n",
    "### 2. Unsupervised Learning – Clustering\n",
    "#### KMeans Clustering (using Synthetic Blob Data)\n",
    "- Automatically grouped unlabeled data into 3 clusters\n",
    "- Successfully visualized clusters and centroids\n",
    "- Demonstrated the concept of grouping based on proximity in feature space\n",
    "\n",
    "---\n",
    "\n",
    "### 3. Supervised Learning – Regression\n",
    "#### Linear Regression (using Diabetes Dataset)\n",
    "- Predicted disease progression using medical data\n",
    "- First used a single feature (univariate regression), then expanded to all features (multivariate)\n",
    "- Evaluated model performance using R² score and Mean Squared Error (MSE)\n",
    "\n",
    "---\n",
    "\n",
    "### Key Takeaways:\n",
    "- Explored **three core ML types**: classification, clustering, regression\n",
    "- Applied **real-world datasets** and clean visualizations\n",
    "- Understood the relationship between **data structure** and **model choice**\n",
    "- Gained hands-on experience using **scikit-learn, matplotlib, seaborn, pandas**"
   ]
  }
 ],
 "metadata": {
  "kernelspec": {
   "display_name": ".venv",
   "language": "python",
   "name": "python3"
  },
  "language_info": {
   "codemirror_mode": {
    "name": "ipython",
    "version": 3
   },
   "file_extension": ".py",
   "mimetype": "text/x-python",
   "name": "python",
   "nbconvert_exporter": "python",
   "pygments_lexer": "ipython3",
   "version": "3.12.6"
  }
 },
 "nbformat": 4,
 "nbformat_minor": 5
}
